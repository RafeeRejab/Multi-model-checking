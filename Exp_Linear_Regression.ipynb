{
 "cells": [
  {
   "cell_type": "code",
   "execution_count": 1,
   "metadata": {},
   "outputs": [],
   "source": [
    "import pandas as pd\n",
    "import numpy as np\n",
    "from scipy import stats\n",
    "from sklearn.metrics import mean_squared_error\n",
    "import matplotlib.pyplot as plt\n",
    "from sklearn.feature_selection import SelectFromModel\n",
    "from sklearn.linear_model import Ridge,RidgeCV,Lasso,LinearRegression\n",
    "import seaborn as sns; \n",
    "from sklearn import metrics\n",
    "sns.set(style=\"ticks\", color_codes=True)\n",
    "%matplotlib inline\n",
    "import time\n",
    "import itertools"
   ]
  },
  {
   "cell_type": "markdown",
   "metadata": {},
   "source": [
    "## Reading the data"
   ]
  },
  {
   "cell_type": "code",
   "execution_count": 2,
   "metadata": {},
   "outputs": [],
   "source": [
    "# Normalize the data frame values such that the std of each column will be approximately 1\n",
    "def norm_fun(df):\n",
    "    for k in df.columns.values:\n",
    "        col_mean=df[k].mean()\n",
    "        col_len=len(df)\n",
    "        Denom=np.sqrt(1/col_len*np.sum((df[k]-col_mean)**2))\n",
    "        df[k] = df[k].apply(lambda x: x/Denom)\n",
    "    return df"
   ]
  },
  {
   "cell_type": "code",
   "execution_count": 3,
   "metadata": {},
   "outputs": [],
   "source": [
    "d_test=pd.read_pickle('d_test.pkl')\n",
    "d_test.reset_index(inplace=True,drop=True)\n",
    "\n",
    "d_train=pd.read_pickle('d_train.pkl')\n",
    "d_train.reset_index(inplace=True,drop=True)\n",
    "\n",
    "# d_train['y_train10']=np.log10(d_train.y_train)\n",
    "# # d_train['Delta_T_log2']=np.log(d_train.Delta_T)\n",
    "\n",
    "# d_train['y_train2']=np.log(d_train.y_train)\n",
    "\n",
    "X=d_train.iloc[:,0:6]# d_test.iloc[:,0:6]\n",
    "X_train=norm_fun(X)\n",
    "y_train=d_train['y_train']\n",
    "d_train.iloc[:,0:6]=X_train\n",
    "y_train=np.log(y_train)\n",
    "\n",
    "X_test=d_test.iloc[:,0:6]# d_test.iloc[:,0:6]\n",
    "X_test=norm_fun(X_test)\n",
    "d_test.iloc[:,0:6]=X_test\n",
    "y_test=d_test['y_test']\n",
    "y_test=np.log(y_test)\n"
   ]
  },
  {
   "cell_type": "code",
   "execution_count": null,
   "metadata": {},
   "outputs": [],
   "source": []
  },
  {
   "cell_type": "code",
   "execution_count": null,
   "metadata": {},
   "outputs": [],
   "source": []
  },
  {
   "cell_type": "code",
   "execution_count": null,
   "metadata": {},
   "outputs": [],
   "source": []
  },
  {
   "cell_type": "markdown",
   "metadata": {},
   "source": [
    "# 1 - LR"
   ]
  },
  {
   "cell_type": "code",
   "execution_count": 33,
   "metadata": {},
   "outputs": [],
   "source": [
    "reg = LinearRegression(normalize=True)\n",
    "def apply_lrg(X_train,y_train,X_test,y_test):\n",
    "    \n",
    "    reg.fit(X_train, y_train)\n",
    "    y_predicted=reg.predict(X_test)\n",
    "#     print(\"r2=\",metrics.r2_score(y_test, y_predicted))\n",
    "#     print(\"MAE=\",metrics.mean_absolute_error(y_test.values,y_predicted))\n",
    "#     print(\"RSS=\",np.sum((y_test.values-y_predicted)**2))\n",
    "    return metrics.r2_score(np.exp(y_test), np.exp(y_predicted)),metrics.mean_absolute_error(np.exp(y_test.values),np.exp(y_predicted)),np.sum((np.exp(y_test.values)-np.exp(y_predicted))**2)"
   ]
  },
  {
   "cell_type": "code",
   "execution_count": 5,
   "metadata": {},
   "outputs": [
    {
     "name": "stdout",
     "output_type": "stream",
     "text": [
      "--- 0.18577051162719727 seconds ---\n"
     ]
    }
   ],
   "source": [
    "start_time = time.time()\n",
    "R2,MAE,RSS=apply_lrg(X_train,y_train,X_test,y_test)\n",
    "print(\"--- %s seconds ---\" % (time.time() - start_time))"
   ]
  },
  {
   "cell_type": "code",
   "execution_count": 34,
   "metadata": {},
   "outputs": [
    {
     "name": "stdout",
     "output_type": "stream",
     "text": [
      "--- 7.619548559188843 seconds ---\n"
     ]
    }
   ],
   "source": [
    "start_time = time.time()\n",
    "R2_buf=[]\n",
    "MAE_buf=[]\n",
    "RSS_buf=[]\n",
    "for k in np.arange(1,7):\n",
    "    buf=np.asarray(list(itertools.combinations(np.arange(0,6), k)))\n",
    "    for item in buf:\n",
    "        X_tr_comb=X_train.iloc[:,item]\n",
    "        X_ts_comb=X_test.iloc[:,item]\n",
    "        R2,MAE,RSS=apply_lrg(X_tr_comb,y_train,X_ts_comb,y_test)\n",
    "        R2_buf.append(R2)\n",
    "        MAE_buf.append(MAE)\n",
    "        RSS_buf.append(RSS)\n",
    "print(\"--- %s seconds ---\" % (time.time() - start_time))       "
   ]
  },
  {
   "cell_type": "code",
   "execution_count": 35,
   "metadata": {},
   "outputs": [
    {
     "name": "stdout",
     "output_type": "stream",
     "text": [
      "MAE= 9.190285322160822\n"
     ]
    },
    {
     "data": {
      "text/plain": [
       "array(['Delta_T', 'FirstPass_Temp', 'U'], dtype=object)"
      ]
     },
     "execution_count": 35,
     "metadata": {},
     "output_type": "execute_result"
    }
   ],
   "source": [
    "ls=[]\n",
    "for k in np.arange(1,7):\n",
    "    ls.extend(list(itertools.combinations(np.arange(0,6), k)))\n",
    "idx=MAE_buf.index(min(MAE_buf))\n",
    "ls[idx]\n",
    "print(\"MAE=\",min(MAE_buf))\n",
    "X_train.columns.values[list(ls[idx])]"
   ]
  },
  {
   "cell_type": "code",
   "execution_count": 36,
   "metadata": {
    "scrolled": true
   },
   "outputs": [
    {
     "data": {
      "image/png": "[encoded data removed]",
      "text/plain": [
       "<Figure size 432x288 with 1 Axes>"
      ]
     },
     "metadata": {},
     "output_type": "display_data"
    }
   ],
   "source": [
    "plt.plot(np.arange(1,len(ls)+1), MAE_buf, 'r-',\n",
    "         label='MAE')\n",
    "plt.xlabel('Model')\n",
    "plt.ylabel('MAE')\n",
    "plt.legend()\n",
    "plt.show()"
   ]
  },
  {
   "cell_type": "code",
   "execution_count": 9,
   "metadata": {
    "scrolled": true
   },
   "outputs": [
    {
     "data": {
      "text/plain": [
       "9.190285322160822"
      ]
     },
     "execution_count": 9,
     "metadata": {},
     "output_type": "execute_result"
    }
   ],
   "source": [
    "np.min(MAE_buf)"
   ]
  },
  {
   "cell_type": "code",
   "execution_count": 37,
   "metadata": {},
   "outputs": [],
   "source": [
    "MAE_Linear_reg=pd.DataFrame(MAE_buf,columns=['Linear_reg'])\n",
    "MAE_Linear_reg.to_csv('Linear_reg.csv')"
   ]
  },
  {
   "cell_type": "markdown",
   "metadata": {},
   "source": [
    "### Using only the important features"
   ]
  },
  {
   "cell_type": "code",
   "execution_count": 20,
   "metadata": {},
   "outputs": [],
   "source": [
    "# X_test=X_test[X_train.columns.values[list(ls[idx])]]\n",
    "# X_train=X_train[X_train.columns.values[list(ls[idx])]]"
   ]
  },
  {
   "cell_type": "code",
   "execution_count": 21,
   "metadata": {},
   "outputs": [],
   "source": [
    "# reg = LinearRegression(normalize=True).fit(X_train, y_train)\n",
    "# y_predicted=reg.predict(X_test)\n",
    "# print(\"r2=\",metrics.r2_score(y_test, y_predicted))\n",
    "# print(\"MAE=\",metrics.mean_absolute_error(np.exp(y_test.values),np.exp(y_predicted)))\n",
    "# print(\"RSS=\",np.sum((y_test.values-y_predicted)**2))\n",
    "# plt.plot(X_test.Delta_T[1:1000], y_test[1:1000], 'r.',label='Test')\n",
    "# plt.plot(X_test.Delta_T[1:1000], y_predicted[1:1000], 'b.',label='Predicted')\n",
    "# plt.xlabel('$\\Delta(t)$')\n",
    "# plt.ylabel('$\\log(tem)$')\n",
    "# plt.legend()\n",
    "# plt.show()"
   ]
  },
  {
   "cell_type": "code",
   "execution_count": 22,
   "metadata": {
    "scrolled": true
   },
   "outputs": [],
   "source": [
    "# plt.plot(X_test.Delta_T[1:1000], np.exp(y_test[1:1000]), 'b.',label='Test')\n",
    "# plt.plot(X_test.Delta_T[1:1000], np.exp(y_predicted[1:1000]), 'r.',label='Predicted')\n",
    "# plt.xlabel('$\\Delta(t)$')\n",
    "# plt.ylabel('$Tem.$')\n",
    "# plt.legend()\n",
    "# plt.show()"
   ]
  },
  {
   "cell_type": "markdown",
   "metadata": {},
   "source": [
    "# 2- Ridge"
   ]
  },
  {
   "cell_type": "code",
   "execution_count": 23,
   "metadata": {},
   "outputs": [
    {
     "name": "stdout",
     "output_type": "stream",
     "text": [
      "r2= 0.5612468562428835\n",
      "MAE= 9.242662281055512\n",
      "RSS= 15990.162032790382\n"
     ]
    },
    {
     "data": {
      "image/png": "[encoded data removed]",
      "text/plain": [
       "<Figure size 432x288 with 1 Axes>"
      ]
     },
     "metadata": {},
     "output_type": "display_data"
    }
   ],
   "source": [
    "clf = Ridge()\n",
    "clf.fit(X_train, y_train) \n",
    "y_predicted=clf.predict(X_test)\n",
    "print(\"r2=\",metrics.r2_score(y_test, y_predicted))\n",
    "print(\"MAE=\",metrics.mean_absolute_error(np.exp(y_test.values),np.exp(y_predicted)))\n",
    "print(\"RSS=\",np.sum((y_test.values-y_predicted)**2))\n",
    "plt.plot(X_test.Delta_T[1:300], y_predicted[1:300], 'b.',label='Predicted')\n",
    "plt.plot(X_test.Delta_T[1:300], y_test[1:300], 'r.',label='Test')\n",
    "plt.xlabel('$\\Delta(t)$')\n",
    "plt.ylabel('$\\log(tem)$')\n",
    "plt.legend()\n",
    "plt.show()"
   ]
  },
  {
   "cell_type": "code",
   "execution_count": 4,
   "metadata": {},
   "outputs": [
    {
     "name": "stdout",
     "output_type": "stream",
     "text": [
      "--- 5.3639702796936035 seconds ---\n",
      "MAE= 9.190289571759106\n"
     ]
    },
    {
     "data": {
      "text/plain": [
       "array(['Delta_T', 'FirstPass_Temp', 'U'], dtype=object)"
      ]
     },
     "execution_count": 4,
     "metadata": {},
     "output_type": "execute_result"
    }
   ],
   "source": [
    "Reg = Ridge()\n",
    "def apply_Reg(X_train,y_train,X_test,y_test):\n",
    "    Reg.fit(X_train, y_train)\n",
    "    y_predicted=Reg.predict(X_test)\n",
    "    return metrics.r2_score(np.exp(y_test), np.exp(y_predicted)),metrics.mean_absolute_error(np.exp(y_test.values),np.exp(y_predicted)),np.sum((np.exp(y_test.values)-np.exp(y_predicted))**2)\n",
    "start_time = time.time()\n",
    "R2_buf=[]\n",
    "MAE_buf=[]\n",
    "RSS_buf=[]\n",
    "for k in np.arange(1,7):\n",
    "    buf=np.asarray(list(itertools.combinations(np.arange(0,6), k)))\n",
    "    for item in buf:\n",
    "        X_tr_comb=X_train.iloc[:,item]\n",
    "        X_ts_comb=X_test.iloc[:,item]\n",
    "        R2,MAE,RSS=apply_Reg(X_tr_comb,y_train,X_ts_comb,y_test)\n",
    "        R2_buf.append(R2)\n",
    "        MAE_buf.append(MAE)\n",
    "        RSS_buf.append(RSS)\n",
    "print(\"--- %s seconds ---\" % (time.time() - start_time))       \n",
    "\n",
    "ls=[]\n",
    "for k in np.arange(1,7):\n",
    "    ls.extend(list(itertools.combinations(np.arange(0,6), k)))\n",
    "idx=MAE_buf.index(min(MAE_buf))\n",
    "ls[idx]\n",
    "print(\"MAE=\",min(MAE_buf))\n",
    "X_train.columns.values[list(ls[idx])]"
   ]
  },
  {
   "cell_type": "code",
   "execution_count": 5,
   "metadata": {},
   "outputs": [],
   "source": [
    "MAE_Ridge=pd.DataFrame(MAE_buf,columns=['Ridge'])\n",
    "MAE_Ridge.to_csv('Ridge.csv')"
   ]
  },
  {
   "cell_type": "markdown",
   "metadata": {},
   "source": [
    "# 3- RidgeCV"
   ]
  },
  {
   "cell_type": "code",
   "execution_count": 26,
   "metadata": {},
   "outputs": [
    {
     "name": "stdout",
     "output_type": "stream",
     "text": [
      "r2= 0.700444750666835\n",
      "MAE= 9.242697051231673\n",
      "RSS= 56926927.953867614\n"
     ]
    },
    {
     "data": {
      "image/png": "[encoded data removed]",
      "text/plain": [
       "<Figure size 432x288 with 1 Axes>"
      ]
     },
     "metadata": {},
     "output_type": "display_data"
    }
   ],
   "source": [
    "clf = RidgeCV(cv=10)\n",
    "clf.fit(X_train, y_train) \n",
    "y_predicted=clf.predict(X_test)\n",
    "print(\"r2=\",metrics.r2_score(np.exp(y_test), np.exp(y_predicted)))\n",
    "print(\"MAE=\",metrics.mean_absolute_error(np.exp(y_test.values),np.exp(y_predicted)))\n",
    "print(\"RSS=\",np.sum((np.exp(y_test.values)-np.exp(y_predicted))**2))\n",
    "plt.plot(X_test.Delta_T[1:300], y_predicted[1:300], 'b.',label='Predicted')\n",
    "plt.plot(X_test.Delta_T[1:300], y_test[1:300], 'r.',label='Test')\n",
    "plt.xlabel('$\\Delta(t)$')\n",
    "plt.ylabel('$\\log(tem)$')\n",
    "plt.legend()\n",
    "plt.show()"
   ]
  },
  {
   "cell_type": "code",
   "execution_count": 6,
   "metadata": {},
   "outputs": [
    {
     "name": "stdout",
     "output_type": "stream",
     "text": [
      "--- 200.56842732429504 seconds ---\n",
      "MAE= 9.190289571759106\n"
     ]
    },
    {
     "data": {
      "text/plain": [
       "array(['Delta_T', 'FirstPass_Temp', 'U'], dtype=object)"
      ]
     },
     "execution_count": 6,
     "metadata": {},
     "output_type": "execute_result"
    }
   ],
   "source": [
    "Reg = RidgeCV(cv=10)\n",
    "def apply_Regcv(X_train,y_train,X_test,y_test):\n",
    "    Reg.fit(X_train, y_train)\n",
    "    y_predicted=Reg.predict(X_test)\n",
    "    return metrics.r2_score(np.exp(y_test), np.exp(y_predicted)),metrics.mean_absolute_error(np.exp(y_test.values),np.exp(y_predicted)),np.sum((np.exp(y_test.values)-np.exp(y_predicted))**2)\n",
    "\n",
    "start_time = time.time()\n",
    "R2_buf=[]\n",
    "MAE_buf=[]\n",
    "RSS_buf=[]\n",
    "for k in np.arange(1,7):\n",
    "    buf=np.asarray(list(itertools.combinations(np.arange(0,6), k)))\n",
    "    for item in buf:\n",
    "        X_tr_comb=X_train.iloc[:,item]\n",
    "        X_ts_comb=X_test.iloc[:,item]\n",
    "        R2,MAE,RSS=apply_Reg(X_tr_comb,y_train,X_ts_comb,y_test)\n",
    "        R2_buf.append(R2)\n",
    "        MAE_buf.append(MAE)\n",
    "        RSS_buf.append(RSS)\n",
    "print(\"--- %s seconds ---\" % (time.time() - start_time))       \n",
    "\n",
    "ls=[]\n",
    "for k in np.arange(1,7):\n",
    "    ls.extend(list(itertools.combinations(np.arange(0,6), k)))\n",
    "idx=MAE_buf.index(min(MAE_buf))\n",
    "ls[idx]\n",
    "print(\"MAE=\",min(MAE_buf))\n",
    "X_train.columns.values[list(ls[idx])]"
   ]
  },
  {
   "cell_type": "code",
   "execution_count": 7,
   "metadata": {},
   "outputs": [],
   "source": [
    "MAE_Ridgecv=pd.DataFrame(MAE_buf,columns=['Ridgecv'])\n",
    "MAE_Ridgecv.to_csv('Ridgecv.csv')"
   ]
  },
  {
   "cell_type": "markdown",
   "metadata": {},
   "source": [
    "# 4- Lasso"
   ]
  },
  {
   "cell_type": "code",
   "execution_count": 28,
   "metadata": {},
   "outputs": [
    {
     "name": "stdout",
     "output_type": "stream",
     "text": [
      "r2= -0.02919189917867393\n",
      "MAE= 20.91086927228987\n",
      "RSS= 195585733.26847708\n"
     ]
    },
    {
     "data": {
      "image/png": "[encoded data removed]",
      "text/plain": [
       "<Figure size 432x288 with 1 Axes>"
      ]
     },
     "metadata": {},
     "output_type": "display_data"
    }
   ],
   "source": [
    "las = Lasso().fit(X_train, y_train)\n",
    "y_predicted=las.predict(X_test)\n",
    "print(\"r2=\",metrics.r2_score(np.exp(y_test), np.exp(y_predicted)))\n",
    "print(\"MAE=\",metrics.mean_absolute_error(np.exp(y_test.values),np.exp(y_predicted)))\n",
    "print(\"RSS=\",np.sum((np.exp(y_test.values)-np.exp(y_predicted))**2))\n",
    "plt.plot(X_test.Delta_T[1:300], y_predicted[1:300], 'b.',label='Predicted')\n",
    "plt.plot(X_test.Delta_T[1:300], y_test[1:300], 'r.',label='Test')\n",
    "plt.xlabel('$\\Delta(t)$')\n",
    "plt.ylabel('$\\log(tem)$')\n",
    "plt.legend()\n",
    "plt.show()"
   ]
  },
  {
   "cell_type": "code",
   "execution_count": 18,
   "metadata": {
    "scrolled": true
   },
   "outputs": [],
   "source": [
    "# estimator = Lasso()\n",
    "# featureSelection = SelectFromModel(estimator)\n",
    "# featureSelection.fit(X_train, y_train)\n",
    "# selectedFeatures = featureSelection.transform(X_train)\n",
    "# X.columns[featureSelection.get_support()]"
   ]
  },
  {
   "cell_type": "code",
   "execution_count": 8,
   "metadata": {},
   "outputs": [
    {
     "name": "stdout",
     "output_type": "stream",
     "text": [
      "--- 6.649721145629883 seconds ---\n",
      "MAE= 20.91086927228987\n"
     ]
    },
    {
     "data": {
      "text/plain": [
       "array(['Delta_T'], dtype=object)"
      ]
     },
     "execution_count": 8,
     "metadata": {},
     "output_type": "execute_result"
    }
   ],
   "source": [
    "def apply_las(X_train,y_train,X_test,y_test):\n",
    "    las = Lasso()\n",
    "    las.fit(X_train, y_train)\n",
    "    y_predicted=las.predict(X_test)\n",
    "    return metrics.r2_score(np.exp(y_test), np.exp(y_predicted)),metrics.mean_absolute_error(np.exp(y_test.values),np.exp(y_predicted)),np.sum((np.exp(y_test.values)-np.exp(y_predicted))**2)\n",
    "\n",
    "start_time = time.time()\n",
    "R2_buf=[]\n",
    "MAE_buf=[]\n",
    "RSS_buf=[]\n",
    "for k in np.arange(1,7):\n",
    "    buf=np.asarray(list(itertools.combinations(np.arange(0,6), k)))\n",
    "    for item in buf:\n",
    "        X_tr_comb=X_train.iloc[:,item]\n",
    "        X_ts_comb=X_test.iloc[:,item]\n",
    "        R2,MAE,RSS=apply_las(X_tr_comb,y_train,X_ts_comb,y_test)\n",
    "        R2_buf.append(R2)\n",
    "        MAE_buf.append(MAE)\n",
    "        RSS_buf.append(RSS)\n",
    "print(\"--- %s seconds ---\" % (time.time() - start_time))       \n",
    "\n",
    "ls=[]\n",
    "for k in np.arange(1,7):\n",
    "    ls.extend(list(itertools.combinations(np.arange(0,6), k)))\n",
    "idx=MAE_buf.index(min(MAE_buf))\n",
    "ls[idx]\n",
    "print(\"MAE=\",min(MAE_buf))\n",
    "X_train.columns.values[list(ls[idx])]"
   ]
  },
  {
   "cell_type": "code",
   "execution_count": 9,
   "metadata": {},
   "outputs": [],
   "source": [
    "MAE_Lasso=pd.DataFrame(MAE_buf,columns=['Lasso'])\n",
    "MAE_Lasso.to_csv('Lasso.csv')"
   ]
  }
 ],
 "metadata": {
  "kernelspec": {
   "display_name": "Python 3",
   "language": "python",
   "name": "python3"
  },
  "language_info": {
   "codemirror_mode": {
    "name": "ipython",
    "version": 3
   },
   "file_extension": ".py",
   "mimetype": "text/x-python",
   "name": "python",
   "nbconvert_exporter": "python",
   "pygments_lexer": "ipython3",
   "version": "3.6.6"
  }
 },
 "nbformat": 4,
 "nbformat_minor": 2
}
